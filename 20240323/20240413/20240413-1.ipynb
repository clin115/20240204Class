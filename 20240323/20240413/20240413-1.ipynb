{
 "cells": [
  {
   "cell_type": "code",
   "execution_count": 2,
   "metadata": {},
   "outputs": [
    {
     "data": {
      "text/plain": [
       "True"
      ]
     },
     "execution_count": 2,
     "metadata": {},
     "output_type": "execute_result"
    }
   ],
   "source": [
    "#Create Virtual Environment\n",
    "from dotenv import load_dotenv\n",
    "load_dotenv()"
   ]
  },
  {
   "cell_type": "code",
   "execution_count": 3,
   "metadata": {},
   "outputs": [],
   "source": [
    "#Connect to Database\n",
    "import psycopg2\n",
    "import os\n",
    "conn = psycopg2.connect(os.environ['POSTGRE_PASSWORD'])\n",
    "conn.commit()\n",
    "conn.close()"
   ]
  },
  {
   "cell_type": "code",
   "execution_count": 4,
   "metadata": {},
   "outputs": [],
   "source": [
    "#By using \"With as\", the commit()and Close() will run automatically\n",
    "#The cursor commands have to be indented under'with'\n",
    "with psycopg2.connect(os.environ['POSTGRE_PASSWORD']) as conn:\n",
    "    cursor = conn.cursor()\n",
    "    sql = '''\n",
    "        CREATE TABLE IF NOT EXISTS Product_List(\n",
    "        Product_ID SERIAL,\n",
    "        Product_Name VARCHAR(250)\n",
    "        );\n",
    "'''\n",
    "    cursor.execute(sql)\n",
    "    sql = '''\n",
    "        CREATE TABLE IF NOT EXISTS Employee_List(\n",
    "        Emoloyee_ID SERIAL,\n",
    "        Employee_Name VARCHAR(250)\n",
    "        );\n",
    "'''\n",
    "    cursor.execute(sql)\n",
    "    cursor.close()"
   ]
  },
  {
   "cell_type": "code",
   "execution_count": 5,
   "metadata": {},
   "outputs": [],
   "source": [
    "conn = psycopg2.connect(os.environ['POSTGRE_PASSWORD'])\n",
    "with conn:\n",
    "    with conn.cursor() as cursor:\n",
    "        sql='''\n",
    "            INSERT INTO PRODUCT_LIST(Product_Name)\n",
    "            VALUES('PCB Drill')\n",
    "            ;\n",
    "        '''\n",
    "        cursor.execute(sql)\n",
    "conn.close()"
   ]
  },
  {
   "cell_type": "code",
   "execution_count": 13,
   "metadata": {},
   "outputs": [],
   "source": [
    "with psycopg2.connect(os.environ['POSTGRE_PASSWORD']) as conn:\n",
    "    with conn.cursor() as cursor:\n",
    "        sql='''\n",
    "            INSERT INTO Contact_LIST(Customer_ID,Contact_Name,Phone,Email)\n",
    "            VALUES(5,'Aldaris','4805707788','aldaris@gmail.com')\n",
    "            ;\n",
    "        '''\n",
    "        cursor.execute(sql)\n",
    "conn.close()"
   ]
  },
  {
   "cell_type": "code",
   "execution_count": 14,
   "metadata": {},
   "outputs": [
    {
     "name": "stdout",
     "output_type": "stream",
     "text": [
      "(1, 'Metal', 'Fenix', '4805708899', 'fenix@gmail.com')\n",
      "(2, 'Wood', 'Artanis', '4805701122', 'artanis@gmail.com')\n",
      "(3, 'Water', 'Tassadar', '4805703344', 'tassadar@gmail.com')\n",
      "(4, 'Fire', 'Zeratul', '4805705566', 'zeratul@gmail.com')\n",
      "(5, 'Earth', 'Aldaris', '4805707788', 'aldaris@gmail.com')\n"
     ]
    }
   ],
   "source": [
    "with psycopg2.connect(os.environ['POSTGRE_PASSWORD']) as conn:\n",
    "    with conn.cursor() as cursor:\n",
    "        sql='''\n",
    "            SELECT Contact_ID,Customer_Name,Contact_Name,Phone,Email\n",
    "            FROM Contact_List LEFT JOIN Customer_List ON Contact_List.Customer_ID = Customer_List.Customer_ID\n",
    "        '''\n",
    "        cursor.execute(sql)\n",
    "        datas:list = cursor.fetchmany(10)\n",
    "for item in datas:\n",
    "    print(item)\n",
    "conn.close()"
   ]
  },
  {
   "cell_type": "code",
   "execution_count": 15,
   "metadata": {},
   "outputs": [
    {
     "name": "stdout",
     "output_type": "stream",
     "text": [
      "(1, 'Metal', 'Fenix', '4805708899', 'fenix@gmail.com')\n",
      "(2, 'Wood', 'Artanis', '4805701122', 'artanis@gmail.com')\n",
      "(3, 'Water', 'Tassadar', '4805703344', 'tassadar@gmail.com')\n",
      "(4, 'Fire', 'Zeratul', '4805705566', 'zeratul@gmail.com')\n",
      "(5, 'Earth', 'Aldaris', '4805707788', 'aldaris@gmail.com')\n"
     ]
    }
   ],
   "source": [
    "with psycopg2.connect(os.environ['POSTGRE_PASSWORD']) as conn:\n",
    "    with conn.cursor() as cursor:\n",
    "        sql='''\n",
    "            SELECT Contact_ID,Customer_Name,Contact_Name,Phone,Email\n",
    "            FROM Contact_List LEFT JOIN Customer_List ON Contact_List.Customer_ID = Customer_List.Customer_ID\n",
    "        '''\n",
    "        cursor.execute(sql)\n",
    "        while True:\n",
    "            oneItem = cursor.fetchone()\n",
    "            if oneItem is not None:\n",
    "                print(oneItem)\n",
    "            else:\n",
    "                break\n",
    "conn.close()"
   ]
  }
 ],
 "metadata": {
  "kernelspec": {
   "display_name": "Python 3",
   "language": "python",
   "name": "python3"
  },
  "language_info": {
   "codemirror_mode": {
    "name": "ipython",
    "version": 3
   },
   "file_extension": ".py",
   "mimetype": "text/x-python",
   "name": "python",
   "nbconvert_exporter": "python",
   "pygments_lexer": "ipython3",
   "version": "3.12.1"
  }
 },
 "nbformat": 4,
 "nbformat_minor": 2
}
