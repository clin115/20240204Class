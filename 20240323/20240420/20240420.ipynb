{
 "cells": [
  {
   "cell_type": "code",
   "execution_count": 7,
   "metadata": {},
   "outputs": [
    {
     "name": "stdout",
     "output_type": "stream",
     "text": [
      "Exists\n"
     ]
    }
   ],
   "source": [
    "dictionary:dict[str,int] = {'A1':10,'A2':20}\n",
    "'A1' in dictionary #see if A1 is in the dictionary\n",
    "#Simple if else argument\n",
    "if 'A1' in dictionary:\n",
    "    print('Exists')\n",
    "else:\n",
    "    print('Non-existent')"
   ]
  },
  {
   "cell_type": "code",
   "execution_count": 8,
   "metadata": {},
   "outputs": [
    {
     "data": {
      "text/plain": [
       "{'B1': 100, 'B2': 200, 'B3': 300}"
      ]
     },
     "execution_count": 8,
     "metadata": {},
     "output_type": "execute_result"
    }
   ],
   "source": [
    "The_Dictionary:dict[str,int]={}\n",
    "if 'B1' not in The_Dictionary:\n",
    "    The_Dictionary['B1'] = 100\n",
    "\n",
    "if 'B2' not in The_Dictionary:\n",
    "    The_Dictionary['B2'] = 200\n",
    "\n",
    "if 'B3' not in The_Dictionary:\n",
    "    The_Dictionary['B3'] = 300\n",
    "\n",
    "The_Dictionary"
   ]
  }
 ],
 "metadata": {
  "kernelspec": {
   "display_name": "base",
   "language": "python",
   "name": "python3"
  },
  "language_info": {
   "codemirror_mode": {
    "name": "ipython",
    "version": 3
   },
   "file_extension": ".py",
   "mimetype": "text/x-python",
   "name": "python",
   "nbconvert_exporter": "python",
   "pygments_lexer": "ipython3",
   "version": "3.12.2"
  }
 },
 "nbformat": 4,
 "nbformat_minor": 2
}
