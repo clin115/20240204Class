{
 "cells": [
  {
   "cell_type": "code",
   "execution_count": 1,
   "metadata": {},
   "outputs": [],
   "source": [
    "# 自定義 Function\n",
    "def greetings():\n",
    "    print(\"En Taro Adun Executor\")"
   ]
  },
  {
   "cell_type": "code",
   "execution_count": 3,
   "metadata": {},
   "outputs": [
    {
     "name": "stdout",
     "output_type": "stream",
     "text": [
      "En Taro Adun Executor\n"
     ]
    }
   ],
   "source": [
    "# 呼叫Function\n",
    "greetings()"
   ]
  },
  {
   "cell_type": "code",
   "execution_count": 7,
   "metadata": {},
   "outputs": [],
   "source": [
    "def greetings(name):\n",
    "    print(f'En Taro Adun {name}')"
   ]
  },
  {
   "cell_type": "code",
   "execution_count": 8,
   "metadata": {},
   "outputs": [
    {
     "name": "stdout",
     "output_type": "stream",
     "text": [
      "En Taro Adun Zeratul\n"
     ]
    }
   ],
   "source": [
    "#呼叫1\n",
    "greetings(\"Zeratul\")"
   ]
  },
  {
   "cell_type": "code",
   "execution_count": 9,
   "metadata": {},
   "outputs": [
    {
     "name": "stdout",
     "output_type": "stream",
     "text": [
      "En Taro Adun Artanis\n"
     ]
    }
   ],
   "source": [
    "#呼叫2\n",
    "greetings(name=\"Artanis\")"
   ]
  },
  {
   "cell_type": "code",
   "execution_count": 23,
   "metadata": {},
   "outputs": [],
   "source": [
    "def menu(appetizer, entree, beverage, dessert):\n",
    "    print(f'開胃菜:{appetizer}')\n",
    "    print(f'主菜:{entree}')\n",
    "    print(f'飲料:{beverage}')\n",
    "    print(f'甜點:{dessert}')"
   ]
  },
  {
   "cell_type": "code",
   "execution_count": 13,
   "metadata": {},
   "outputs": [
    {
     "name": "stdout",
     "output_type": "stream",
     "text": [
      "開胃菜:Salad\n",
      "主菜:Steak\n",
      "飲料:Green Tea\n",
      "甜點:Cake\n"
     ]
    }
   ],
   "source": [
    "# 依照順序呼叫\n",
    "menu('Salad', 'Steak', 'Green Tea', 'Cake')"
   ]
  },
  {
   "cell_type": "code",
   "execution_count": 21,
   "metadata": {},
   "outputs": [
    {
     "name": "stdout",
     "output_type": "stream",
     "text": [
      "開胃菜:fruit plate\n",
      "主菜:Pulled Pork\n",
      "飲料:Black Tea\n",
      "甜點:Puddings\n"
     ]
    }
   ],
   "source": [
    "# 不依照順序呼叫\n",
    "menu(dessert=\"Puddings\", beverage=\"Black Tea\", entree=\"Pulled Pork\", appetizer=\"fruit plate\")"
   ]
  },
  {
   "cell_type": "code",
   "execution_count": 25,
   "metadata": {},
   "outputs": [],
   "source": [
    "# Function 傳出的值\n",
    "def menu(appetizer:str, entree:str)->dict[str,str]:\n",
    "    return {'開胃菜':appetizer,'主菜':entree,}"
   ]
  },
  {
   "cell_type": "code",
   "execution_count": 27,
   "metadata": {},
   "outputs": [
    {
     "data": {
      "text/plain": [
       "{'開胃菜': 'salad', '主菜': 'chicken'}"
      ]
     },
     "execution_count": 27,
     "metadata": {},
     "output_type": "execute_result"
    }
   ],
   "source": [
    "customer_order = menu(appetizer='salad', entree='chicken')\n",
    "customer_order"
   ]
  },
  {
   "cell_type": "code",
   "execution_count": 37,
   "metadata": {},
   "outputs": [],
   "source": [
    "# 預設參數\n",
    "def menu(appetizer:str, entree:str='fillet')->dict[str,str]:\n",
    "    return {'開胃菜':appetizer,'主菜':entree}"
   ]
  },
  {
   "cell_type": "code",
   "execution_count": 41,
   "metadata": {},
   "outputs": [
    {
     "name": "stdout",
     "output_type": "stream",
     "text": [
      "{'開胃菜': 'salad', '主菜': 'fillet'}\n",
      "{'開胃菜': 'salad', '主菜': 'chicken'}\n"
     ]
    }
   ],
   "source": [
    "print(menu('salad'))\n",
    "print(menu('salad', entree='chicken'))"
   ]
  },
  {
   "cell_type": "code",
   "execution_count": 44,
   "metadata": {},
   "outputs": [
    {
     "name": "stdout",
     "output_type": "stream",
     "text": [
      "('紅酒', '黃酒', '白酒', '紹興酒')\n"
     ]
    }
   ],
   "source": [
    "#不限制變數數量\n",
    "def menu(*args):\n",
    "    print(args)\n",
    "menu('紅酒','黃酒','白酒','紹興酒')"
   ]
  },
  {
   "cell_type": "code",
   "execution_count": 45,
   "metadata": {},
   "outputs": [
    {
     "name": "stdout",
     "output_type": "stream",
     "text": [
      "A-1-2.0-True.\n"
     ]
    }
   ],
   "source": [
    "#預設的分隔為空格，改為-；結尾換行前改成.\n",
    "print('A',1,2.0,True,sep='-',end='.\\n')"
   ]
  }
 ],
 "metadata": {
  "kernelspec": {
   "display_name": "Python 3",
   "language": "python",
   "name": "python3"
  },
  "language_info": {
   "codemirror_mode": {
    "name": "ipython",
    "version": 3
   },
   "file_extension": ".py",
   "mimetype": "text/x-python",
   "name": "python",
   "nbconvert_exporter": "python",
   "pygments_lexer": "ipython3",
   "version": "3.10.13"
  }
 },
 "nbformat": 4,
 "nbformat_minor": 2
}
