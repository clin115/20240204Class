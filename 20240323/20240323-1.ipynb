{
 "cells": [
  {
   "cell_type": "code",
   "execution_count": 1,
   "metadata": {},
   "outputs": [
    {
     "name": "stdout",
     "output_type": "stream",
     "text": [
      "<class 'str'>\n",
      "key=Name\n",
      "values=Zeratul\n",
      "*****************\n",
      "<class 'str'>\n",
      "key=Hitpoint\n",
      "values=60\n",
      "*****************\n",
      "<class 'str'>\n",
      "key=Attack\n",
      "values=100\n",
      "*****************\n",
      "<class 'str'>\n",
      "key=Shield\n",
      "values=400\n",
      "*****************\n"
     ]
    }
   ],
   "source": [
    "# For in 變數\n",
    "student:dict[str,any]={\n",
    "    'Name':'Zeratul',\n",
    "    'Hitpoint':60,\n",
    "    'Attack':100,\n",
    "    'Shield':400\n",
    "}\n",
    "\n",
    "for key in student:\n",
    "    print(type(key))\n",
    "    print(f'key={key}')\n",
    "    print(f'values={student[key]}')\n",
    "    print(\"*****************\")"
   ]
  },
  {
   "cell_type": "code",
   "execution_count": 2,
   "metadata": {},
   "outputs": [
    {
     "name": "stdout",
     "output_type": "stream",
     "text": [
      "404\n",
      "這個網頁掛了\n"
     ]
    }
   ],
   "source": [
    "#tuple 拆解法\n",
    "code, error = (404,'這個網頁掛了')\n",
    "print(code)\n",
    "print(error)"
   ]
  },
  {
   "cell_type": "code",
   "execution_count": 3,
   "metadata": {},
   "outputs": [
    {
     "name": "stdout",
     "output_type": "stream",
     "text": [
      "Index:0\n",
      "Value equals:10\n",
      "*******************\n",
      "Index:1\n",
      "Value equals:20\n",
      "*******************\n",
      "Index:2\n",
      "Value equals:30\n",
      "*******************\n"
     ]
    }
   ],
   "source": [
    "values:list[int]=[10,20,30]\n",
    "for idx,value in enumerate(values):\n",
    "    print(f'Index:{idx}')\n",
    "    print(f'Value equals:{value}')\n",
    "    print(\"*******************\")"
   ]
  },
  {
   "cell_type": "code",
   "execution_count": 7,
   "metadata": {},
   "outputs": [
    {
     "name": "stdout",
     "output_type": "stream",
     "text": [
      "Name\n",
      "Hitpoint\n",
      "Attack\n",
      "Shield\n"
     ]
    }
   ],
   "source": [
    "student:dict[str,any]={\n",
    "    'Name':'Zeratul',\n",
    "    'Hitpoint':60,\n",
    "    'Attack':100,\n",
    "    'Shield':400\n",
    "}\n",
    "\n",
    "for key in student.keys():\n",
    "    print(key)"
   ]
  },
  {
   "cell_type": "code",
   "execution_count": 8,
   "metadata": {},
   "outputs": [
    {
     "name": "stdout",
     "output_type": "stream",
     "text": [
      "Zeratul\n",
      "60\n",
      "100\n",
      "400\n"
     ]
    }
   ],
   "source": [
    "\n",
    "for value in student.values():\n",
    "    print(value)"
   ]
  },
  {
   "cell_type": "code",
   "execution_count": 9,
   "metadata": {},
   "outputs": [
    {
     "name": "stdout",
     "output_type": "stream",
     "text": [
      "('Name', 'Zeratul')\n",
      "('Hitpoint', 60)\n",
      "('Attack', 100)\n",
      "('Shield', 400)\n"
     ]
    }
   ],
   "source": [
    "for item in student.items():\n",
    "    print(item)"
   ]
  },
  {
   "cell_type": "code",
   "execution_count": 16,
   "metadata": {},
   "outputs": [
    {
     "name": "stdout",
     "output_type": "stream",
     "text": [
      "key=name,value=Zeratul\n",
      "key=shield,value=400\n",
      "key=hitpoint,value=60\n",
      "key=attack,value=100\n",
      "*********************\n",
      "key=name,value=Fenix\n",
      "key=shield,value=240\n",
      "key=hitpoint,value=240\n",
      "key=attack,value=45\n",
      "*********************\n",
      "key=name,value=Artanis\n",
      "key=shield,value=250\n",
      "key=hitpoint,value=250\n",
      "key=attack,value=28\n",
      "*********************\n"
     ]
    }
   ],
   "source": [
    "protoss_hero = [{'name':'Zeratul', 'shield':400, 'hitpoint':60, 'attack':100},\n",
    "             {'name':'Fenix', 'shield':240, 'hitpoint':240, 'attack':45},\n",
    "             {'name':'Artanis', 'shield':250, 'hitpoint':250, 'attack':28}]\n",
    "\n",
    "for char in protoss_hero:\n",
    "    for key,value in char.items():\n",
    "        print(f'key={key},value={value}')\n",
    "    print(\"*********************\")"
   ]
  }
 ],
 "metadata": {
  "kernelspec": {
   "display_name": "Python 3",
   "language": "python",
   "name": "python3"
  },
  "language_info": {
   "codemirror_mode": {
    "name": "ipython",
    "version": 3
   },
   "file_extension": ".py",
   "mimetype": "text/x-python",
   "name": "python",
   "nbconvert_exporter": "python",
   "pygments_lexer": "ipython3",
   "version": "3.10.13"
  }
 },
 "nbformat": 4,
 "nbformat_minor": 2
}
