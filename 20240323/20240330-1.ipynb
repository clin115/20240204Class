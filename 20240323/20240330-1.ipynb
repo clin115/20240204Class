{
 "cells": [
  {
   "cell_type": "markdown",
   "metadata": {},
   "source": [
    "##連線到資料庫"
   ]
  },
  {
   "cell_type": "code",
   "execution_count": 17,
   "metadata": {},
   "outputs": [
    {
     "data": {
      "text/plain": [
       "psycopg2.extensions.connection"
      ]
     },
     "execution_count": 17,
     "metadata": {},
     "output_type": "execute_result"
    }
   ],
   "source": [
    "import psycopg2\n",
    "import os\n",
    "from psycopg2 import connect\n",
    "from dotenv import load_dotenv\n",
    "#初始化環境變數\n",
    "load_dotenv()\n",
    "#Create Connection\n",
    "conn = psycopg2.connect(os.environ['POSTGRE_PASSWORD'])\n",
    "type(conn)"
   ]
  },
  {
   "cell_type": "markdown",
   "metadata": {},
   "source": [
    "##創建資料表"
   ]
  },
  {
   "cell_type": "code",
   "execution_count": 18,
   "metadata": {},
   "outputs": [],
   "source": [
    "#Create cursor to run sql\n",
    "cur = conn.cursor()\n",
    "sql = '''\n",
    "CREATE TABLE IF NOT EXISTS student(\n",
    "\tid SERIAL PRIMARY KEY,\n",
    "\tname VARCHAR(50),\n",
    "\tchinese SMALLINT,\n",
    "\tenglish SMALLINT,\n",
    "\tmath SMALLINT\n",
    ");'''\n",
    "#run sql query request\n",
    "cur.execute(sql)\n",
    "#See if SQL runs well\n",
    "conn.commit()\n",
    "#close cursor\n",
    "cur.close()\n",
    "#Disconnect\n",
    "conn.close()"
   ]
  },
  {
   "cell_type": "markdown",
   "metadata": {},
   "source": [
    "##新增資料"
   ]
  },
  {
   "cell_type": "code",
   "execution_count": 13,
   "metadata": {},
   "outputs": [],
   "source": [
    "import psycopg2\n",
    "import os\n",
    "from psycopg2 import connect\n",
    "from dotenv import load_dotenv\n",
    "#初始化環境變數\n",
    "load_dotenv()\n",
    "#Create Connection\n",
    "conn = psycopg2.connect(os.environ['POSTGRE_PASSWORD'])\n",
    "\n",
    "#Create cursor to run sql\n",
    "cur = conn.cursor()\n",
    "sql = '''\n",
    "INSERT INTO student(name,chinese,english,math)\n",
    "VALUES('Zeratul',90,95,85);\n",
    "'''\n",
    "#run sql query request\n",
    "cur.execute(sql)\n",
    "#See if SQL runs well\n",
    "conn.commit()\n",
    "#close cursor\n",
    "cur.close()\n",
    "#Disconnect\n",
    "conn.close()"
   ]
  },
  {
   "cell_type": "markdown",
   "metadata": {},
   "source": [
    "##顯示資料表"
   ]
  },
  {
   "cell_type": "code",
   "execution_count": 21,
   "metadata": {},
   "outputs": [
    {
     "name": "stdout",
     "output_type": "stream",
     "text": [
      "[(1, 'Fenix', 100, 95, 60), (2, 'Fenix', 100, 95, 60), (3, 'Raynor', 73, 76, 80), (4, 'Kerrigan', 70, 85, 70)]\n"
     ]
    }
   ],
   "source": [
    "import psycopg2\n",
    "import os\n",
    "from psycopg2 import connect\n",
    "from dotenv import load_dotenv\n",
    "#初始化環境變數\n",
    "load_dotenv()\n",
    "#Create Connection\n",
    "conn = psycopg2.connect(os.environ['POSTGRE_PASSWORD'])\n",
    "\n",
    "#Create cursor to run sql\n",
    "cur = conn.cursor()\n",
    "sql = '''\n",
    "SELECT * FROM student;\n",
    "'''\n",
    "#run sql query request\n",
    "cur.execute(sql)\n",
    "#show Data\n",
    "print(cur.fetchall())\n",
    "#See if SQL runs well\n",
    "conn.commit()\n",
    "#close cursor\n",
    "cur.close()\n",
    "#Disconnect\n",
    "conn.close()"
   ]
  },
  {
   "cell_type": "markdown",
   "metadata": {},
   "source": [
    "##刪除資料表"
   ]
  },
  {
   "cell_type": "code",
   "execution_count": 15,
   "metadata": {},
   "outputs": [],
   "source": [
    "import psycopg2\n",
    "import os\n",
    "from psycopg2 import connect\n",
    "from dotenv import load_dotenv\n",
    "#初始化環境變數\n",
    "load_dotenv()\n",
    "#Create Connection\n",
    "conn = psycopg2.connect(os.environ['POSTGRE_PASSWORD'])\n",
    "\n",
    "#Create cursor to run sql\n",
    "cur = conn.cursor()\n",
    "sql = '''\n",
    "DROP TABLE IF EXISTS student;\n",
    "'''\n",
    "#run sql query request\n",
    "cur.execute(sql)\n",
    "\n",
    "#See if SQL runs well\n",
    "conn.commit()\n",
    "#close cursor\n",
    "cur.close()\n",
    "#Disconnect\n",
    "conn.close()"
   ]
  },
  {
   "cell_type": "markdown",
   "metadata": {},
   "source": [
    "##正確的插入值方法"
   ]
  },
  {
   "cell_type": "code",
   "execution_count": 19,
   "metadata": {},
   "outputs": [],
   "source": [
    "import psycopg2\n",
    "import os\n",
    "from psycopg2 import connect\n",
    "from dotenv import load_dotenv\n",
    "#初始化環境變數\n",
    "load_dotenv()\n",
    "#Create Connection\n",
    "conn = psycopg2.connect(os.environ['POSTGRE_PASSWORD'])\n",
    "\n",
    "#Create cursor to run sql\n",
    "cur = conn.cursor()\n",
    "sql = '''\n",
    "INSERT INTO student(name,chinese,english,math)\n",
    "VALUES(%(name)s,%(chinese)s,%(english)s,%(math)s);\n",
    "'''\n",
    "#run sql query request\n",
    "cur.execute(sql,{'name':'Fenix','chinese':100,'english':95,'math':60})\n",
    "#See if SQL runs well\n",
    "conn.commit()\n",
    "#close cursor\n",
    "cur.close()\n",
    "#Disconnect\n",
    "conn.close()"
   ]
  },
  {
   "cell_type": "markdown",
   "metadata": {},
   "source": [
    "##新增多筆資料"
   ]
  },
  {
   "cell_type": "code",
   "execution_count": 20,
   "metadata": {},
   "outputs": [],
   "source": [
    "import psycopg2\n",
    "import os\n",
    "from psycopg2 import connect\n",
    "from dotenv import load_dotenv\n",
    "#初始化環境變數\n",
    "load_dotenv()\n",
    "#Create Connection\n",
    "conn = psycopg2.connect(os.environ['POSTGRE_PASSWORD'])\n",
    "\n",
    "#Create cursor to run sql\n",
    "cur = conn.cursor()\n",
    "sql = '''\n",
    "INSERT INTO student(name,chinese,english,math)\n",
    "VALUES(%(name)s,%(chinese)s,%(english)s,%(math)s);\n",
    "'''\n",
    "#run sql query request\n",
    "data:list[dict] = [\n",
    "    {'name':'Fenix','chinese':100,'english':95,'math':60},\n",
    "    {'name':'Raynor','chinese':73,'english':76,'math':80},\n",
    "    {'name':'Kerrigan','chinese':70,'english':85,'math':70}\n",
    "]\n",
    "for item in data:\n",
    "    cur.execute(sql,item)\n",
    "#See if SQL runs well\n",
    "conn.commit()\n",
    "#close cursor\n",
    "cur.close()\n",
    "#Disconnect\n",
    "conn.close()"
   ]
  }
 ],
 "metadata": {
  "kernelspec": {
   "display_name": "Python 3",
   "language": "python",
   "name": "python3"
  },
  "language_info": {
   "codemirror_mode": {
    "name": "ipython",
    "version": 3
   },
   "file_extension": ".py",
   "mimetype": "text/x-python",
   "name": "python",
   "nbconvert_exporter": "python",
   "pygments_lexer": "ipython3",
   "version": "3.10.13"
  }
 },
 "nbformat": 4,
 "nbformat_minor": 2
}
