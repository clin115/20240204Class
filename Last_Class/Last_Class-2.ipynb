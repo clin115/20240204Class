{
 "cells": [
  {
   "cell_type": "code",
   "execution_count": 8,
   "metadata": {},
   "outputs": [
    {
     "name": "stdout",
     "output_type": "stream",
     "text": [
      "Tables have been created successfully.\n"
     ]
    }
   ],
   "source": [
    "#Create Tables\n",
    "import psycopg2\n",
    "import os\n",
    "from dotenv import load_dotenv\n",
    "load_dotenv()\n",
    "with psycopg2.connect(os.environ['POSTGRE_PASSWORD1']) as conn:\n",
    "    with conn.cursor() as cursor:\n",
    "        sql='''\n",
    "        CREATE TABLE IF NOT EXISTS Taipei_Ubike_Stations(\n",
    "\t        Station_ID VARCHAR(10),\n",
    "\t        Station_Name VARCHAR(30)NOT NULL,\n",
    "\t        District VARCHAR(10)NOT NULL,\n",
    "\t        Address VARCHAR(100),\n",
    "\t        Lat NUMERIC(15,11),\n",
    "\t        Lng NUMERIC(15,11),\n",
    "\t        PRIMARY KEY (Station_ID)\n",
    "        );\n",
    "\n",
    "        CREATE TABLE IF NOT EXISTS Ubike_Status(\n",
    "\t        DATE TIMESTAMP,\n",
    "\t        Station_ID VARCHAR(10),\n",
    "\t        Bike_Amount INTEGER,\n",
    "\t        Borrow_Avail INTEGER,\n",
    "\t        RETURN_Avail INTEGER,\n",
    "\t        Activity BOOLEAN,\n",
    "\t        PRIMARY KEY(DATE,Station_ID),\n",
    "\t        FOREIGN KEY(Station_ID) REFERENCES Taipei_Ubike_Stations(Station_ID)\n",
    "\t        ON DELETE CASCADE\n",
    "\t        ON UPDATE CASCADE\n",
    "        );      \n",
    "        '''\n",
    "        cursor.execute(sql)\n",
    "print('Tables have been created successfully.')\n"
   ]
  },
  {
   "cell_type": "code",
   "execution_count": 7,
   "metadata": {},
   "outputs": [
    {
     "name": "stdout",
     "output_type": "stream",
     "text": [
      "Values have been inserted successfully.\n"
     ]
    }
   ],
   "source": [
    "#Insert Values\n",
    "with psycopg2.connect(os.environ['POSTGRE_PASSWORD1']) as conn:\n",
    "    with conn.cursor() as cursor:\n",
    "        sql='''\n",
    "            INSERT INTO Taipei_Ubike_Stations\n",
    "            VALUES (%s,%s,%s,%s,%s,%s)\n",
    "            ON CONFLICT DO NOTHING;\n",
    "        '''\n",
    "        cursor.execute(sql,('500101001','YouBike2.0_捷運科技大樓站','大安區','復興南路二段235號前',25.02605,121.5436))\n",
    "\n",
    "        sql = '''\n",
    "            INSERT INTO Ubike_Status\n",
    "            VALUES (%s,%s,%s,%s1,%s,%s)\n",
    "            ON CONFLICT DO NOTHING;\n",
    "        '''\n",
    "        cursor.execute(sql,('2024-04-27 13:49:32','500101001',28,1,27,True))\n",
    "print('Values have been inserted successfully.')"
   ]
  }
 ],
 "metadata": {
  "kernelspec": {
   "display_name": "Python 3",
   "language": "python",
   "name": "python3"
  },
  "language_info": {
   "codemirror_mode": {
    "name": "ipython",
    "version": 3
   },
   "file_extension": ".py",
   "mimetype": "text/x-python",
   "name": "python",
   "nbconvert_exporter": "python",
   "pygments_lexer": "ipython3",
   "version": "3.12.2"
  }
 },
 "nbformat": 4,
 "nbformat_minor": 2
}
