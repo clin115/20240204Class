{
 "cells": [
  {
   "cell_type": "code",
   "execution_count": 6,
   "metadata": {},
   "outputs": [],
   "source": [
    "import psycopg2\n",
    "import os\n",
    "from psycopg2 import connect\n",
    "from dotenv import load_dotenv\n",
    "#初始化環境變數\n",
    "load_dotenv()\n",
    "#Create Connection\n",
    "conn = psycopg2.connect(os.environ['POSTGRE_PASSWORD'])\n",
    "type(conn)\n",
    "\n",
    "#Create cursor to run sql\n",
    "cur = conn.cursor()\n",
    "sql = '''\n",
    "CREATE TABLE IF NOT EXISTS Customer_List(\n",
    "\tCustomer_ID SERIAL PRIMARY KEY,\n",
    "\tCustomer_Name VARCHAR(50)\n",
    ");\n",
    "\n",
    "INSERT INTO Customer_List(Customer_Name)\n",
    "VALUES('Metal'),('Wood'),('Water'),('Fire'),('Earth')\n",
    ";\n",
    "\n",
    "CREATE TABLE IF NOT EXISTS Contact_List(\n",
    "    Contact_ID SERIAL,\n",
    "    Customer_ID INT,\n",
    "    Contact_Name VARCHAR(200) NOT NULL,\n",
    "    Phone VARCHAR(50),\n",
    "    Email VARCHAR(200),\n",
    "    PRIMARY KEY(Contact_ID),\n",
    "    FOREIGN KEY(Customer_ID) REFERENCES Customer_List(Customer_ID)\n",
    ");\n",
    "\n",
    "'''\n",
    "#run sql query request\n",
    "cur.execute(sql)\n",
    "#See if SQL runs well\n",
    "conn.commit()\n",
    "#close cursor\n",
    "cur.close()\n",
    "#Disconnect\n",
    "conn.close()"
   ]
  },
  {
   "cell_type": "code",
   "execution_count": 8,
   "metadata": {},
   "outputs": [],
   "source": [
    "#Create Connection\n",
    "conn = psycopg2.connect(os.environ['POSTGRE_PASSWORD'])\n",
    "\n",
    "#Create cursor to run sql\n",
    "cur = conn.cursor()\n",
    "sql = '''\n",
    "INSERT INTO Contact_List(Customer_ID,Contact_Name,Phone,Email)\n",
    "VALUES(%(Customer_ID)s,%(Contact_Name)s,%(Phone)s,%(Email)s)\n",
    ";\n",
    "'''\n",
    "data:list[dict] = [\n",
    "    {'Customer_ID':1,'Contact_Name':'Fenix','Phone':'4805708899','Email':'fenix@gmail.com'},\n",
    "    {'Customer_ID':2,'Contact_Name':'Artanis','Phone':'4805701122','Email':'artanis@gmail.com'},\n",
    "    {'Customer_ID':3,'Contact_Name':'Tassadar','Phone':'4805703344','Email':'tassadar@gmail.com'},\n",
    "    {'Customer_ID':4,'Contact_Name':'Zeratul','Phone':'4805705566','Email':'zeratul@gmail.com'}\n",
    "]\n",
    "for item in data:\n",
    "#run sql query request\n",
    "    cur.execute(sql,item)\n",
    "#See if SQL runs well\n",
    "conn.commit()\n",
    "#close cursor\n",
    "cur.close()\n",
    "#Disconnect\n",
    "conn.close()\n",
    "\n"
   ]
  }
 ],
 "metadata": {
  "kernelspec": {
   "display_name": "venv1",
   "language": "python",
   "name": "python3"
  },
  "language_info": {
   "codemirror_mode": {
    "name": "ipython",
    "version": 3
   },
   "file_extension": ".py",
   "mimetype": "text/x-python",
   "name": "python",
   "nbconvert_exporter": "python",
   "pygments_lexer": "ipython3",
   "version": "3.10.13"
  }
 },
 "nbformat": 4,
 "nbformat_minor": 2
}
