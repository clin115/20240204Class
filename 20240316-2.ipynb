{
 "cells": [
  {
   "cell_type": "code",
   "execution_count": 3,
   "metadata": {},
   "outputs": [],
   "source": [
    "protoss = [{'name':'Zeratul', 'shield':400, 'hitpoint':60, 'attack':100},\n",
    "             {'name':'Fenix', 'shield':240, 'hitpoint':240, 'attack':45},\n",
    "             {'name':'Artanis', 'shield':250, 'hitpoint':250, 'attack':28}]"
   ]
  },
  {
   "cell_type": "markdown",
   "metadata": {},
   "source": [
    "for hero in protoss:\n",
    "    for stats in hero:\n",
    "        print(hero[stats])\n",
    "    print(\"==========\")"
   ]
  },
  {
   "cell_type": "code",
   "execution_count": 4,
   "metadata": {},
   "outputs": [
    {
     "name": "stdout",
     "output_type": "stream",
     "text": [
      "Zeratul\n",
      "400\n",
      "60\n",
      "100\n",
      "======================\n",
      "Fenix\n",
      "240\n",
      "240\n",
      "45\n",
      "======================\n",
      "Artanis\n",
      "250\n",
      "250\n",
      "28\n",
      "======================\n"
     ]
    }
   ],
   "source": [
    "for hero in protoss:\n",
    "    for key in hero:\n",
    "        print(hero[key])\n",
    "    print(\"======================\")"
   ]
  },
  {
   "cell_type": "code",
   "execution_count": null,
   "metadata": {},
   "outputs": [],
   "source": []
  }
 ],
 "metadata": {
  "kernelspec": {
   "display_name": "Python 3",
   "language": "python",
   "name": "python3"
  },
  "language_info": {
   "codemirror_mode": {
    "name": "ipython",
    "version": 3
   },
   "file_extension": ".py",
   "mimetype": "text/x-python",
   "name": "python",
   "nbconvert_exporter": "python",
   "pygments_lexer": "ipython3",
   "version": "3.12.2"
  }
 },
 "nbformat": 4,
 "nbformat_minor": 2
}
